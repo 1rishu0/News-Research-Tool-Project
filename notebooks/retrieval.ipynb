{
 "cells": [
  {
   "cell_type": "code",
   "id": "initial_id",
   "metadata": {
    "collapsed": true
   },
   "source": "import streamlit as st",
   "outputs": [],
   "execution_count": null
  },
  {
   "metadata": {},
   "cell_type": "code",
   "source": [
    "import os\n",
    "import streamlit as st\n",
    "import pickle\n",
    "import time\n",
    "import langchain\n",
    "from langchain import OpenAI\n",
    "from langchain.chains import RetrievalQAWithSourcesChain\n",
    "from langchain.chains.qa_with_sources.loading import load_qa_with_sources_chain\n",
    "from langchain.text_splitter import RecursiveCharacterTextSplitter\n",
    "from langchain.document_loaders import UnstructuredURLLoader\n",
    "from langchain.embeddings import OpenAIEmbeddings\n",
    "from langchain.vectorstores import FAISS"
   ],
   "id": "1dee7b4e7b708dbd",
   "outputs": [],
   "execution_count": null
  },
  {
   "metadata": {},
   "cell_type": "code",
   "source": "os.environ['OPENAI_API_KEY'] = 'your api key'",
   "id": "5873c4229e364c43",
   "outputs": [],
   "execution_count": null
  },
  {
   "metadata": {},
   "cell_type": "code",
   "source": [
    "# Initialize LLM with params\n",
    "llm = OpenAI(temperature = 0.9, max_tokens = 500)\n",
    "\n",
    "loaders = UnstructuredURLLoader(urls = [\n",
    "    'https://www.moneycontrol.com/news/business/banks/hdfc-bank-re-appoints-sanmoy-chakrabarti-as-chieft-risk-officer-11259771.html',\n",
    "    'https://www.moneycontrol.com/news/business/markets/market-corrects-post-rbi-ups-inflation-forecast-icrr-bet-on-these-top-10-rate-sensitive-stocks-ideas-11142611.html'\n",
    "])\n",
    "data = loaders.load()\n",
    "len(data)"
   ],
   "id": "778a260c33db55a5",
   "outputs": [],
   "execution_count": null
  },
  {
   "metadata": {},
   "cell_type": "code",
   "source": [
    "text_splitter = RecursiveCharacterTextSplitter(\n",
    "    chunk_size = 1000,\n",
    "    chunk_overlap = 200\n",
    ")\n",
    "\n",
    "# As data is of type documents we can directly use split_documents over split_text in order to get the chunks\n",
    "docs = text_splitter.split_documents(data)\n",
    "len(docs)"
   ],
   "id": "3ad3437f55f8cdd5",
   "outputs": [],
   "execution_count": null
  },
  {
   "metadata": {},
   "cell_type": "code",
   "source": "docs[8]",
   "id": "b8724db917470799",
   "outputs": [],
   "execution_count": null
  },
  {
   "metadata": {},
   "cell_type": "code",
   "source": [
    "embeddings = OpenAIEmbeddings()\n",
    "\n",
    "vectorindex_openai = FAISS.from_documents(docs, embeddings)\n"
   ],
   "id": "1ed6123361b3e8e9",
   "outputs": [],
   "execution_count": null
  },
  {
   "metadata": {},
   "cell_type": "code",
   "source": [
    "file_path = 'vector_index.pkl'\n",
    "with open(file_path, 'wb') as f:\n",
    "    pickle.dump(vectorindex_openai, f)"
   ],
   "id": "fb06e767c176bb08",
   "outputs": [],
   "execution_count": null
  },
  {
   "metadata": {},
   "cell_type": "code",
   "source": [
    "# storing vector index create in local\n",
    "file_path = 'vector_index.pkl'\n",
    "if os.path.exists(file_path):\n",
    "    with open(file_path,'rb') as f:\n",
    "        vectorIndex = pickle.load(f)"
   ],
   "id": "27ccb1decc9b26f8",
   "outputs": [],
   "execution_count": null
  },
  {
   "metadata": {},
   "cell_type": "code",
   "source": [
    "chain = RetrievalQAWithSourcesChain(llm = llm, retriever = vectorIndex.retriever())\n",
    "chain"
   ],
   "id": "b9d5dd46d6b154f4",
   "outputs": [],
   "execution_count": null
  },
  {
   "metadata": {},
   "cell_type": "code",
   "source": [
    "query = 'What is the price of Tiago iCNG'\n",
    "\n",
    "langchain.debug = True\n",
    "\n",
    "chain({'question':query}, return_only_outputs = True)"
   ],
   "id": "fe99df1007e68ce0",
   "outputs": [],
   "execution_count": null
  },
  {
   "metadata": {},
   "cell_type": "code",
   "source": "",
   "id": "1bccc12a9ecad123",
   "outputs": [],
   "execution_count": null
  }
 ],
 "metadata": {
  "kernelspec": {
   "display_name": "Python 3",
   "language": "python",
   "name": "python3"
  },
  "language_info": {
   "codemirror_mode": {
    "name": "ipython",
    "version": 2
   },
   "file_extension": ".py",
   "mimetype": "text/x-python",
   "name": "python",
   "nbconvert_exporter": "python",
   "pygments_lexer": "ipython2",
   "version": "2.7.6"
  }
 },
 "nbformat": 4,
 "nbformat_minor": 5
}
