{
 "cells": [
  {
   "cell_type": "code",
   "id": "initial_id",
   "metadata": {
    "collapsed": true,
    "ExecuteTime": {
     "end_time": "2025-08-20T07:50:41.631215Z",
     "start_time": "2025-08-20T07:50:39.305830Z"
    }
   },
   "source": [
    "!pip install faiss-cpu\n",
    "!pip install sentence-transformers"
   ],
   "outputs": [
    {
     "name": "stdout",
     "output_type": "stream",
     "text": [
      "Requirement already satisfied: faiss-cpu in c:\\users\\risha\\desktop\\projects\\new_research_tool\\.venv\\lib\\site-packages (1.12.0)\n",
      "Requirement already satisfied: numpy<3.0,>=1.25.0 in c:\\users\\risha\\desktop\\projects\\new_research_tool\\.venv\\lib\\site-packages (from faiss-cpu) (2.3.2)\n",
      "Requirement already satisfied: packaging in c:\\users\\risha\\desktop\\projects\\new_research_tool\\.venv\\lib\\site-packages (from faiss-cpu) (25.0)\n"
     ]
    },
    {
     "name": "stderr",
     "output_type": "stream",
     "text": [
      "\n",
      "[notice] A new release of pip is available: 25.1.1 -> 25.2\n",
      "[notice] To update, run: python.exe -m pip install --upgrade pip\n"
     ]
    },
    {
     "name": "stdout",
     "output_type": "stream",
     "text": [
      "Requirement already satisfied: sentence-transformers in c:\\users\\risha\\desktop\\projects\\new_research_tool\\.venv\\lib\\site-packages (5.1.0)\n",
      "Requirement already satisfied: transformers<5.0.0,>=4.41.0 in c:\\users\\risha\\desktop\\projects\\new_research_tool\\.venv\\lib\\site-packages (from sentence-transformers) (4.55.2)\n",
      "Requirement already satisfied: tqdm in c:\\users\\risha\\desktop\\projects\\new_research_tool\\.venv\\lib\\site-packages (from sentence-transformers) (4.67.1)\n",
      "Requirement already satisfied: torch>=1.11.0 in c:\\users\\risha\\desktop\\projects\\new_research_tool\\.venv\\lib\\site-packages (from sentence-transformers) (2.8.0)\n",
      "Requirement already satisfied: scikit-learn in c:\\users\\risha\\desktop\\projects\\new_research_tool\\.venv\\lib\\site-packages (from sentence-transformers) (1.7.1)\n",
      "Requirement already satisfied: scipy in c:\\users\\risha\\desktop\\projects\\new_research_tool\\.venv\\lib\\site-packages (from sentence-transformers) (1.16.1)\n",
      "Requirement already satisfied: huggingface-hub>=0.20.0 in c:\\users\\risha\\desktop\\projects\\new_research_tool\\.venv\\lib\\site-packages (from sentence-transformers) (0.34.4)\n",
      "Requirement already satisfied: Pillow in c:\\users\\risha\\desktop\\projects\\new_research_tool\\.venv\\lib\\site-packages (from sentence-transformers) (11.3.0)\n",
      "Requirement already satisfied: typing_extensions>=4.5.0 in c:\\users\\risha\\desktop\\projects\\new_research_tool\\.venv\\lib\\site-packages (from sentence-transformers) (4.14.1)\n",
      "Requirement already satisfied: filelock in c:\\users\\risha\\desktop\\projects\\new_research_tool\\.venv\\lib\\site-packages (from transformers<5.0.0,>=4.41.0->sentence-transformers) (3.19.1)\n",
      "Requirement already satisfied: numpy>=1.17 in c:\\users\\risha\\desktop\\projects\\new_research_tool\\.venv\\lib\\site-packages (from transformers<5.0.0,>=4.41.0->sentence-transformers) (2.3.2)\n",
      "Requirement already satisfied: packaging>=20.0 in c:\\users\\risha\\desktop\\projects\\new_research_tool\\.venv\\lib\\site-packages (from transformers<5.0.0,>=4.41.0->sentence-transformers) (25.0)\n",
      "Requirement already satisfied: pyyaml>=5.1 in c:\\users\\risha\\desktop\\projects\\new_research_tool\\.venv\\lib\\site-packages (from transformers<5.0.0,>=4.41.0->sentence-transformers) (6.0.2)\n",
      "Requirement already satisfied: regex!=2019.12.17 in c:\\users\\risha\\desktop\\projects\\new_research_tool\\.venv\\lib\\site-packages (from transformers<5.0.0,>=4.41.0->sentence-transformers) (2025.7.34)\n",
      "Requirement already satisfied: requests in c:\\users\\risha\\desktop\\projects\\new_research_tool\\.venv\\lib\\site-packages (from transformers<5.0.0,>=4.41.0->sentence-transformers) (2.32.4)\n",
      "Requirement already satisfied: tokenizers<0.22,>=0.21 in c:\\users\\risha\\desktop\\projects\\new_research_tool\\.venv\\lib\\site-packages (from transformers<5.0.0,>=4.41.0->sentence-transformers) (0.21.4)\n",
      "Requirement already satisfied: safetensors>=0.4.3 in c:\\users\\risha\\desktop\\projects\\new_research_tool\\.venv\\lib\\site-packages (from transformers<5.0.0,>=4.41.0->sentence-transformers) (0.6.2)\n",
      "Requirement already satisfied: fsspec>=2023.5.0 in c:\\users\\risha\\desktop\\projects\\new_research_tool\\.venv\\lib\\site-packages (from huggingface-hub>=0.20.0->sentence-transformers) (2025.7.0)\n",
      "Requirement already satisfied: sympy>=1.13.3 in c:\\users\\risha\\desktop\\projects\\new_research_tool\\.venv\\lib\\site-packages (from torch>=1.11.0->sentence-transformers) (1.14.0)\n",
      "Requirement already satisfied: networkx in c:\\users\\risha\\desktop\\projects\\new_research_tool\\.venv\\lib\\site-packages (from torch>=1.11.0->sentence-transformers) (3.5)\n",
      "Requirement already satisfied: jinja2 in c:\\users\\risha\\desktop\\projects\\new_research_tool\\.venv\\lib\\site-packages (from torch>=1.11.0->sentence-transformers) (3.1.6)\n",
      "Requirement already satisfied: setuptools in c:\\users\\risha\\desktop\\projects\\new_research_tool\\.venv\\lib\\site-packages (from torch>=1.11.0->sentence-transformers) (80.9.0)\n",
      "Requirement already satisfied: mpmath<1.4,>=1.1.0 in c:\\users\\risha\\desktop\\projects\\new_research_tool\\.venv\\lib\\site-packages (from sympy>=1.13.3->torch>=1.11.0->sentence-transformers) (1.3.0)\n",
      "Requirement already satisfied: colorama in c:\\users\\risha\\desktop\\projects\\new_research_tool\\.venv\\lib\\site-packages (from tqdm->sentence-transformers) (0.4.6)\n",
      "Requirement already satisfied: MarkupSafe>=2.0 in c:\\users\\risha\\desktop\\projects\\new_research_tool\\.venv\\lib\\site-packages (from jinja2->torch>=1.11.0->sentence-transformers) (3.0.2)\n",
      "Requirement already satisfied: charset_normalizer<4,>=2 in c:\\users\\risha\\desktop\\projects\\new_research_tool\\.venv\\lib\\site-packages (from requests->transformers<5.0.0,>=4.41.0->sentence-transformers) (3.4.3)\n",
      "Requirement already satisfied: idna<4,>=2.5 in c:\\users\\risha\\desktop\\projects\\new_research_tool\\.venv\\lib\\site-packages (from requests->transformers<5.0.0,>=4.41.0->sentence-transformers) (3.10)\n",
      "Requirement already satisfied: urllib3<3,>=1.21.1 in c:\\users\\risha\\desktop\\projects\\new_research_tool\\.venv\\lib\\site-packages (from requests->transformers<5.0.0,>=4.41.0->sentence-transformers) (2.5.0)\n",
      "Requirement already satisfied: certifi>=2017.4.17 in c:\\users\\risha\\desktop\\projects\\new_research_tool\\.venv\\lib\\site-packages (from requests->transformers<5.0.0,>=4.41.0->sentence-transformers) (2025.8.3)\n",
      "Requirement already satisfied: joblib>=1.2.0 in c:\\users\\risha\\desktop\\projects\\new_research_tool\\.venv\\lib\\site-packages (from scikit-learn->sentence-transformers) (1.5.1)\n",
      "Requirement already satisfied: threadpoolctl>=3.1.0 in c:\\users\\risha\\desktop\\projects\\new_research_tool\\.venv\\lib\\site-packages (from scikit-learn->sentence-transformers) (3.6.0)\n"
     ]
    },
    {
     "name": "stderr",
     "output_type": "stream",
     "text": [
      "\n",
      "[notice] A new release of pip is available: 25.1.1 -> 25.2\n",
      "[notice] To update, run: python.exe -m pip install --upgrade pip\n"
     ]
    }
   ],
   "execution_count": 2
  },
  {
   "metadata": {
    "ExecuteTime": {
     "end_time": "2025-08-20T07:50:42.218378Z",
     "start_time": "2025-08-20T07:50:41.639227Z"
    }
   },
   "cell_type": "code",
   "source": [
    "import pandas as pd\n",
    "pd.set_option('display.max_colwidth',100)"
   ],
   "id": "a76637b84f941b8f",
   "outputs": [],
   "execution_count": 3
  },
  {
   "metadata": {
    "ExecuteTime": {
     "end_time": "2025-08-20T07:50:42.252361Z",
     "start_time": "2025-08-20T07:50:42.224487Z"
    }
   },
   "cell_type": "code",
   "source": [
    "df = pd.read_csv('./sample_text.csv')\n",
    "df"
   ],
   "id": "7a32a94a8e206547",
   "outputs": [
    {
     "data": {
      "text/plain": [
       "                                                                                  text  \\\n",
       "0                                        Meditation and yoga can improve mental health   \n",
       "1                     Fruits, whole grains and vegetables helps control blood pressure   \n",
       "2                                    These are the latest fashion trends for this week   \n",
       "3                                    Vibrant color jeans for male are becoming a trend   \n",
       "4                                                   The concert starts at 7 PM tonight   \n",
       "5                      Navaratri dandiya program at Expo center in Mumbai this october   \n",
       "6                                    Exciting vacation destinations for your next trip   \n",
       "7  Maldives and Srilanka are gaining popularity in terms of low budget vacation places   \n",
       "\n",
       "  category  \n",
       "0   Health  \n",
       "1   Health  \n",
       "2  Fashion  \n",
       "3  Fashion  \n",
       "4    Event  \n",
       "5    Event  \n",
       "6   Travel  \n",
       "7   Travel  "
      ],
      "text/html": [
       "<div>\n",
       "<style scoped>\n",
       "    .dataframe tbody tr th:only-of-type {\n",
       "        vertical-align: middle;\n",
       "    }\n",
       "\n",
       "    .dataframe tbody tr th {\n",
       "        vertical-align: top;\n",
       "    }\n",
       "\n",
       "    .dataframe thead th {\n",
       "        text-align: right;\n",
       "    }\n",
       "</style>\n",
       "<table border=\"1\" class=\"dataframe\">\n",
       "  <thead>\n",
       "    <tr style=\"text-align: right;\">\n",
       "      <th></th>\n",
       "      <th>text</th>\n",
       "      <th>category</th>\n",
       "    </tr>\n",
       "  </thead>\n",
       "  <tbody>\n",
       "    <tr>\n",
       "      <th>0</th>\n",
       "      <td>Meditation and yoga can improve mental health</td>\n",
       "      <td>Health</td>\n",
       "    </tr>\n",
       "    <tr>\n",
       "      <th>1</th>\n",
       "      <td>Fruits, whole grains and vegetables helps control blood pressure</td>\n",
       "      <td>Health</td>\n",
       "    </tr>\n",
       "    <tr>\n",
       "      <th>2</th>\n",
       "      <td>These are the latest fashion trends for this week</td>\n",
       "      <td>Fashion</td>\n",
       "    </tr>\n",
       "    <tr>\n",
       "      <th>3</th>\n",
       "      <td>Vibrant color jeans for male are becoming a trend</td>\n",
       "      <td>Fashion</td>\n",
       "    </tr>\n",
       "    <tr>\n",
       "      <th>4</th>\n",
       "      <td>The concert starts at 7 PM tonight</td>\n",
       "      <td>Event</td>\n",
       "    </tr>\n",
       "    <tr>\n",
       "      <th>5</th>\n",
       "      <td>Navaratri dandiya program at Expo center in Mumbai this october</td>\n",
       "      <td>Event</td>\n",
       "    </tr>\n",
       "    <tr>\n",
       "      <th>6</th>\n",
       "      <td>Exciting vacation destinations for your next trip</td>\n",
       "      <td>Travel</td>\n",
       "    </tr>\n",
       "    <tr>\n",
       "      <th>7</th>\n",
       "      <td>Maldives and Srilanka are gaining popularity in terms of low budget vacation places</td>\n",
       "      <td>Travel</td>\n",
       "    </tr>\n",
       "  </tbody>\n",
       "</table>\n",
       "</div>"
      ]
     },
     "execution_count": 4,
     "metadata": {},
     "output_type": "execute_result"
    }
   ],
   "execution_count": 4
  },
  {
   "metadata": {
    "ExecuteTime": {
     "end_time": "2025-08-20T07:50:42.277581Z",
     "start_time": "2025-08-20T07:50:42.272195Z"
    }
   },
   "cell_type": "code",
   "source": "df.shape",
   "id": "da5db4c88e317cdb",
   "outputs": [
    {
     "data": {
      "text/plain": [
       "(8, 2)"
      ]
     },
     "execution_count": 5,
     "metadata": {},
     "output_type": "execute_result"
    }
   ],
   "execution_count": 5
  },
  {
   "metadata": {
    "ExecuteTime": {
     "end_time": "2025-08-20T07:51:30.930744Z",
     "start_time": "2025-08-20T07:50:42.292354Z"
    }
   },
   "cell_type": "code",
   "source": [
    "from sentence_transformers import SentenceTransformer\n",
    "\n",
    "encoder = SentenceTransformer('all-mpnet-base-v2')\n",
    "vectors = encoder.encode(df.text)\n",
    "vectors.shape"
   ],
   "id": "659c1e7b9a86e882",
   "outputs": [
    {
     "name": "stderr",
     "output_type": "stream",
     "text": [
      "C:\\Users\\risha\\Desktop\\Projects\\New_Research_Tool\\.venv\\Lib\\site-packages\\tqdm\\auto.py:21: TqdmWarning: IProgress not found. Please update jupyter and ipywidgets. See https://ipywidgets.readthedocs.io/en/stable/user_install.html\n",
      "  from .autonotebook import tqdm as notebook_tqdm\n",
      "C:\\Users\\risha\\Desktop\\Projects\\New_Research_Tool\\.venv\\Lib\\site-packages\\huggingface_hub\\file_download.py:143: UserWarning: `huggingface_hub` cache-system uses symlinks by default to efficiently store duplicated files but your machine does not support them in C:\\Users\\risha\\.cache\\huggingface\\hub\\models--sentence-transformers--all-mpnet-base-v2. Caching files will still work but in a degraded version that might require more space on your disk. This warning can be disabled by setting the `HF_HUB_DISABLE_SYMLINKS_WARNING` environment variable. For more details, see https://huggingface.co/docs/huggingface_hub/how-to-cache#limitations.\n",
      "To support symlinks on Windows, you either need to activate Developer Mode or to run Python as an administrator. In order to activate developer mode, see this article: https://docs.microsoft.com/en-us/windows/apps/get-started/enable-your-device-for-development\n",
      "  warnings.warn(message)\n",
      "Xet Storage is enabled for this repo, but the 'hf_xet' package is not installed. Falling back to regular HTTP download. For better performance, install the package with: `pip install huggingface_hub[hf_xet]` or `pip install hf_xet`\n"
     ]
    },
    {
     "data": {
      "text/plain": [
       "(8, 768)"
      ]
     },
     "execution_count": 6,
     "metadata": {},
     "output_type": "execute_result"
    }
   ],
   "execution_count": 6
  },
  {
   "metadata": {
    "ExecuteTime": {
     "end_time": "2025-08-20T07:51:30.941884Z",
     "start_time": "2025-08-20T07:51:30.938294Z"
    }
   },
   "cell_type": "code",
   "source": [
    "dim = vectors.shape[1]\n",
    "dim"
   ],
   "id": "67f896838a40a2f8",
   "outputs": [
    {
     "data": {
      "text/plain": [
       "768"
      ]
     },
     "execution_count": 7,
     "metadata": {},
     "output_type": "execute_result"
    }
   ],
   "execution_count": 7
  },
  {
   "metadata": {
    "ExecuteTime": {
     "end_time": "2025-08-20T07:51:31.024567Z",
     "start_time": "2025-08-20T07:51:30.973802Z"
    }
   },
   "cell_type": "code",
   "source": [
    "import faiss\n",
    "\n",
    "index = faiss.IndexFlatL2(dim)\n",
    "index"
   ],
   "id": "23edd6b99f9dedc1",
   "outputs": [
    {
     "data": {
      "text/plain": [
       "<faiss.swigfaiss_avx2.IndexFlatL2; proxy of <Swig Object of type 'faiss::IndexFlatL2 *' at 0x000001D3AC434600> >"
      ]
     },
     "execution_count": 8,
     "metadata": {},
     "output_type": "execute_result"
    }
   ],
   "execution_count": 8
  },
  {
   "metadata": {
    "ExecuteTime": {
     "end_time": "2025-08-20T07:51:31.034792Z",
     "start_time": "2025-08-20T07:51:31.030712Z"
    }
   },
   "cell_type": "code",
   "source": "index.add(vectors)",
   "id": "b59bcb2c5bfcc8dd",
   "outputs": [],
   "execution_count": 9
  },
  {
   "metadata": {
    "ExecuteTime": {
     "end_time": "2025-08-20T07:51:31.085451Z",
     "start_time": "2025-08-20T07:51:31.043575Z"
    }
   },
   "cell_type": "code",
   "source": [
    "search_query = 'I want to buy a Polo t-shirt'\n",
    "\n",
    "vec = encoder.encode(search_query)\n",
    "vec.shape"
   ],
   "id": "6ed77f29bd315cb8",
   "outputs": [
    {
     "data": {
      "text/plain": [
       "(768,)"
      ]
     },
     "execution_count": 10,
     "metadata": {},
     "output_type": "execute_result"
    }
   ],
   "execution_count": 10
  },
  {
   "metadata": {
    "ExecuteTime": {
     "end_time": "2025-08-20T07:51:33.464891Z",
     "start_time": "2025-08-20T07:51:33.460188Z"
    }
   },
   "cell_type": "code",
   "source": [
    "import numpy as np\n",
    "svec = np.array(vec).reshape(1,-1)\n",
    "svec.shape"
   ],
   "id": "8b0e27ff307e630a",
   "outputs": [
    {
     "data": {
      "text/plain": [
       "(1, 768)"
      ]
     },
     "execution_count": 11,
     "metadata": {},
     "output_type": "execute_result"
    }
   ],
   "execution_count": 11
  },
  {
   "metadata": {
    "ExecuteTime": {
     "end_time": "2025-08-20T07:51:38.239063Z",
     "start_time": "2025-08-20T07:51:38.231635Z"
    }
   },
   "cell_type": "code",
   "source": "svec",
   "id": "8653f067e1844a64",
   "outputs": [
    {
     "data": {
      "text/plain": [
       "array([[ 1.03882868e-02,  2.78686509e-02, -1.18618757e-02,\n",
       "         1.81327220e-02,  1.21983094e-03, -1.42995883e-02,\n",
       "         1.96229331e-02,  2.07198113e-02, -2.23660879e-02,\n",
       "         4.75626625e-02,  1.77976023e-02, -8.00332334e-03,\n",
       "         2.53419559e-02,  5.26149124e-02,  8.44941940e-03,\n",
       "        -1.63944028e-02,  1.02661615e-02, -2.74856314e-02,\n",
       "         8.37067366e-02, -1.52885308e-02,  1.67682841e-02,\n",
       "        -3.97141138e-03, -2.74348482e-02,  5.02091721e-02,\n",
       "        -8.36522318e-03, -4.74075824e-02,  2.36915536e-02,\n",
       "        -1.01186372e-02, -2.82840487e-02,  7.94263929e-03,\n",
       "         4.21436056e-02, -4.19374602e-03, -1.91232134e-02,\n",
       "        -3.12785506e-02,  1.24685050e-06, -1.04428418e-02,\n",
       "        -2.19971314e-02, -8.66928175e-02, -1.88496290e-03,\n",
       "        -2.54772156e-02, -9.72973090e-03,  7.93310478e-02,\n",
       "        -3.55963483e-02, -3.05374182e-04, -1.12392167e-02,\n",
       "        -3.88932303e-02,  5.49313761e-02,  1.35207996e-01,\n",
       "        -8.19147378e-02,  1.18785119e-02, -9.01845470e-03,\n",
       "         1.92544367e-02, -2.82723475e-02, -3.29266824e-02,\n",
       "        -2.20106840e-02, -4.29835841e-02,  3.70104611e-02,\n",
       "        -4.80649136e-02,  9.49256588e-03,  3.51585671e-02,\n",
       "         4.88772653e-02, -3.28933485e-02, -1.24120275e-02,\n",
       "        -1.64292883e-02,  3.93721499e-02,  2.69109700e-02,\n",
       "         6.15458563e-02, -4.14121104e-03,  1.75675470e-02,\n",
       "         1.53993201e-02,  9.60058440e-03, -5.69614349e-04,\n",
       "        -4.83582765e-02,  4.25832123e-02,  1.10985804e-02,\n",
       "        -4.66182716e-02, -2.10590078e-03, -5.81461228e-02,\n",
       "         1.40413009e-02,  1.00883720e-02, -2.44589541e-02,\n",
       "         1.42714297e-02, -2.10582074e-02,  7.38854259e-02,\n",
       "        -2.23948918e-02,  1.38752991e-02, -1.33593893e-03,\n",
       "         9.21317097e-03, -2.84222644e-02, -4.04205266e-03,\n",
       "        -1.71393398e-02, -8.46521277e-03, -2.83983983e-02,\n",
       "        -3.69299576e-02, -9.47201326e-02, -3.26580256e-02,\n",
       "         2.60049757e-02,  1.31179318e-02,  1.51670771e-02,\n",
       "        -2.12379009e-03,  1.48178060e-02,  1.37817087e-02,\n",
       "         1.25303939e-02, -5.01474552e-03,  3.56062986e-02,\n",
       "         5.93453795e-02, -5.03397286e-02, -9.55993962e-03,\n",
       "        -7.23668784e-02,  9.45843942e-03,  1.54202804e-02,\n",
       "        -7.03748828e-03, -3.10014728e-02, -8.86361767e-03,\n",
       "        -2.98000723e-02, -8.84007886e-02, -2.25058738e-02,\n",
       "        -3.25824432e-02,  4.78070602e-02,  2.14030268e-03,\n",
       "         1.37759454e-03, -1.25066126e-02, -1.15712499e-02,\n",
       "         2.34021842e-02,  3.43835796e-03,  2.69363038e-02,\n",
       "        -6.23307452e-02, -5.29251667e-03,  1.73166231e-03,\n",
       "         3.20439525e-02,  2.13099847e-04, -1.54123642e-02,\n",
       "         5.08342646e-02, -4.52312268e-02, -1.67428553e-02,\n",
       "        -3.47918607e-02, -4.16715518e-02, -2.34929360e-02,\n",
       "         2.40791426e-03, -2.15251073e-02,  3.07011558e-03,\n",
       "         2.54970826e-02,  3.60133201e-02,  2.68477984e-02,\n",
       "        -4.22385931e-02, -2.45388821e-02,  3.93798016e-02,\n",
       "         6.31312886e-03,  2.03843657e-02, -2.22934633e-02,\n",
       "        -7.87318218e-03, -1.47401057e-02,  4.87235785e-02,\n",
       "        -2.55933590e-02, -1.08920997e-02, -3.37022468e-02,\n",
       "         4.69094589e-02,  1.95821337e-02,  4.13407618e-03,\n",
       "         2.72842795e-02,  4.72965883e-04,  2.55070757e-02,\n",
       "        -5.26176244e-02,  3.57674658e-02, -5.46482019e-03,\n",
       "        -3.90752070e-02, -4.51455563e-02, -1.37631288e-02,\n",
       "         5.50720729e-02,  3.80344205e-02, -4.58984673e-02,\n",
       "         4.83393716e-03, -2.92574614e-02, -4.76557156e-03,\n",
       "         9.17752981e-02, -9.70400423e-02,  1.05631791e-01,\n",
       "        -5.64410873e-02, -6.33300841e-02,  3.45335640e-02,\n",
       "        -5.77132292e-02, -1.21777318e-01,  9.45343915e-03,\n",
       "         2.02731416e-02,  2.63031907e-02,  3.96902254e-03,\n",
       "        -3.88276391e-02, -1.57009158e-02, -3.47952135e-02,\n",
       "        -3.07988301e-02,  3.24620381e-02, -4.84479629e-02,\n",
       "         4.39476874e-03, -1.72206927e-02,  1.15600487e-04,\n",
       "        -3.72782201e-02, -5.17302454e-02, -1.91914719e-02,\n",
       "        -3.10722589e-02,  4.77239583e-03, -5.49006462e-02,\n",
       "        -1.40048591e-02,  2.99301315e-02,  9.23176333e-02,\n",
       "        -2.96304636e-02,  2.45515704e-02,  3.50713618e-02,\n",
       "        -5.64088393e-03,  1.57488789e-02,  2.08431575e-02,\n",
       "         5.11531793e-02,  7.25735957e-03,  4.40721912e-03,\n",
       "        -2.58072130e-02,  4.99891536e-03, -1.47748587e-03,\n",
       "        -4.42323089e-03,  4.48388159e-02,  7.79227912e-02,\n",
       "         1.65748000e-02, -3.80822644e-02,  3.76828127e-02,\n",
       "         1.02415688e-01, -1.61059108e-02,  7.32476413e-02,\n",
       "        -1.11488262e-02,  3.81629206e-02,  2.02278718e-02,\n",
       "        -1.23596974e-02,  2.38338653e-02, -2.99291629e-02,\n",
       "        -7.08032725e-03,  1.23010017e-02, -6.69543538e-03,\n",
       "        -6.65793195e-02,  6.94696605e-02,  1.02031752e-02,\n",
       "        -2.23912876e-02, -1.79656558e-02, -3.10913660e-02,\n",
       "        -3.04419957e-02, -2.43375674e-02,  2.62913946e-02,\n",
       "        -1.44890985e-02, -3.44526507e-02,  3.69896903e-03,\n",
       "         2.34961975e-02, -2.20465567e-02, -6.40620068e-02,\n",
       "        -3.29653323e-02, -1.13152424e-02,  4.46261205e-02,\n",
       "         2.82178521e-02, -1.32326558e-02, -2.48316824e-02,\n",
       "        -4.16193977e-02, -3.17104310e-02, -2.90311454e-03,\n",
       "        -2.58374214e-02, -2.38407683e-02,  4.09953371e-02,\n",
       "        -3.72038670e-02,  3.80427167e-02,  2.60184575e-02,\n",
       "         3.78452316e-02, -1.22930063e-02, -1.78747158e-02,\n",
       "         2.22685188e-02, -1.39293633e-02,  3.33372224e-03,\n",
       "        -1.01043303e-02, -9.42678824e-02,  2.93328185e-02,\n",
       "        -2.11533941e-02, -8.28085840e-03,  9.39183589e-03,\n",
       "         7.01195225e-02, -2.47648414e-02, -7.45414710e-03,\n",
       "         1.81595292e-02,  2.10113972e-02,  5.30432425e-02,\n",
       "        -1.83114391e-02,  2.45678425e-02,  1.81326084e-02,\n",
       "        -1.36736520e-02, -2.25671101e-03,  2.27259416e-02,\n",
       "        -1.32561354e-02,  5.31734526e-02,  2.84621655e-03,\n",
       "        -1.26052257e-02,  5.37055172e-02, -2.62217745e-02,\n",
       "         6.28262237e-02, -3.38792764e-02,  1.24346381e-02,\n",
       "         3.83221847e-03,  2.31522396e-02, -7.25013539e-02,\n",
       "        -4.14396124e-03, -4.29395884e-02, -9.25685652e-03,\n",
       "        -1.02920141e-02, -2.94400025e-02, -1.51161868e-02,\n",
       "         1.03488807e-02, -8.83043278e-03,  7.79082906e-03,\n",
       "         6.15880564e-02, -2.56217644e-02,  2.67890543e-02,\n",
       "        -3.48655060e-02, -3.35104242e-02,  4.58869301e-02,\n",
       "         2.87142582e-02, -1.73843540e-02,  9.46801975e-02,\n",
       "        -2.42618285e-02,  2.83706859e-02,  5.47285192e-03,\n",
       "        -3.05396505e-02, -2.04882473e-02,  1.14951041e-02,\n",
       "        -2.06157062e-02, -4.73046899e-02, -5.66265371e-04,\n",
       "         2.54014246e-02, -4.44825776e-02, -3.05528808e-02,\n",
       "        -2.27482207e-02,  5.34624700e-03, -1.77380275e-02,\n",
       "         8.93086847e-03,  6.29967311e-03, -4.71266918e-02,\n",
       "         9.71080922e-03, -1.98281594e-02, -1.95309259e-02,\n",
       "         2.61490364e-02,  2.61223433e-03, -2.84732617e-02,\n",
       "        -8.45035817e-03, -6.73168153e-02, -8.53152722e-02,\n",
       "        -3.01742535e-02,  3.68126892e-02,  2.59252414e-02,\n",
       "        -6.74630105e-02, -5.72894290e-02, -1.90711059e-02,\n",
       "        -2.98832711e-02, -1.49018634e-02, -6.44187583e-03,\n",
       "        -1.42151732e-02,  3.73985916e-02,  1.12889253e-03,\n",
       "         2.28629578e-02, -4.47168089e-02,  2.30516680e-02,\n",
       "         6.28948328e-04,  4.42759171e-02,  2.46650297e-02,\n",
       "         3.51332687e-02, -3.61626148e-02, -4.75540310e-02,\n",
       "         1.82497688e-02,  3.07629630e-02,  1.00454199e-03,\n",
       "        -1.84898712e-02, -2.19187696e-05,  7.50036016e-02,\n",
       "         3.62004638e-02,  6.58764988e-02, -1.86647382e-02,\n",
       "         4.20116819e-02, -2.29519024e-03,  6.42547980e-02,\n",
       "         5.11614308e-02, -1.55825522e-02, -7.13905378e-04,\n",
       "         3.42612490e-02, -6.07560342e-03,  2.43100040e-02,\n",
       "        -1.24313002e-02, -4.36682887e-02,  2.47560535e-02,\n",
       "        -3.65800261e-02,  2.03334037e-02, -3.50793190e-02,\n",
       "         1.50017245e-02,  7.63921589e-02,  6.04431070e-02,\n",
       "         6.65944144e-02,  3.30560096e-03,  3.46694477e-02,\n",
       "        -1.60530210e-03, -2.37293262e-02,  9.55966953e-03,\n",
       "        -8.56768526e-03, -1.43413860e-02,  9.41571444e-02,\n",
       "         3.45746838e-02,  7.35701323e-02,  2.54632514e-02,\n",
       "        -3.96389589e-02,  2.52091363e-02,  7.53591582e-02,\n",
       "        -3.82415242e-02, -3.73829156e-02, -5.41513376e-02,\n",
       "         2.40689125e-02, -3.08086593e-02, -6.20016409e-03,\n",
       "        -7.64317857e-03, -3.59188393e-02,  1.13590667e-03,\n",
       "        -4.66336636e-03,  2.37279925e-02, -4.54728715e-02,\n",
       "        -1.95234478e-03,  1.30089736e-02, -4.03874740e-02,\n",
       "         3.14237326e-02,  3.25081460e-02,  2.98243854e-02,\n",
       "        -7.06280349e-04, -8.04493353e-02, -1.45465909e-02,\n",
       "        -1.17486166e-02, -3.25348191e-02,  3.16704735e-02,\n",
       "        -4.22670394e-02,  6.71451241e-02, -1.01962581e-01,\n",
       "        -3.84004675e-02, -1.90569665e-02,  5.59220947e-02,\n",
       "         7.67455110e-03,  5.18109873e-02,  1.68128666e-02,\n",
       "        -1.31116109e-02,  2.82032881e-03,  1.55518844e-03,\n",
       "        -5.03693067e-04, -3.61106247e-02, -6.84432546e-03,\n",
       "         1.76924169e-02, -2.98450030e-02, -4.57745418e-02,\n",
       "         1.10833831e-02, -1.51629662e-02,  3.66877392e-03,\n",
       "         8.08090493e-02, -1.80435013e-02, -1.02004071e-03,\n",
       "        -4.84685326e-04,  3.22403014e-02, -1.65944379e-02,\n",
       "         1.84554525e-03,  5.07567227e-02,  1.58889536e-02,\n",
       "        -6.26497567e-02, -1.95618682e-02,  4.34029363e-02,\n",
       "        -5.68293035e-02,  1.05988316e-01, -4.80109006e-02,\n",
       "         1.00578144e-02,  2.19856128e-02, -3.14385779e-02,\n",
       "         1.16583398e-02,  3.97340544e-02, -1.13186790e-02,\n",
       "         5.83116859e-02,  2.77367677e-03,  6.33228868e-02,\n",
       "         4.29549143e-02,  2.16283035e-02,  3.85456011e-02,\n",
       "        -2.44158562e-02,  1.34006590e-02,  2.94844736e-03,\n",
       "         7.02529540e-03, -1.87546499e-02,  4.76556569e-02,\n",
       "         6.15999922e-02,  1.85416248e-02, -1.38640329e-02,\n",
       "        -4.43653911e-02, -2.19828691e-02,  1.19858319e-02,\n",
       "        -3.77184935e-02, -6.42945468e-02, -2.67555807e-02,\n",
       "         5.12968674e-02,  2.78438292e-02, -6.28402531e-02,\n",
       "        -3.17040682e-02,  2.21165475e-02, -1.41522763e-02,\n",
       "        -6.07150327e-03,  7.16667771e-02,  1.14130508e-02,\n",
       "         3.74976825e-03, -6.88135922e-02,  4.47597317e-02,\n",
       "        -3.12533155e-02,  1.41535504e-02, -3.08248773e-02,\n",
       "        -7.57701579e-04, -5.60960593e-03,  4.05325182e-02,\n",
       "         5.67543961e-04,  1.03435768e-02,  8.89484808e-02,\n",
       "        -8.93703476e-03, -6.23021014e-02,  2.01754794e-02,\n",
       "        -1.27847474e-02,  1.61152184e-02, -1.23150973e-02,\n",
       "         2.49236301e-02,  2.02201866e-02, -2.01466568e-02,\n",
       "         4.14759517e-02, -2.72540282e-02, -3.96626182e-02,\n",
       "        -2.26231888e-02,  1.40826462e-03,  1.52835604e-02,\n",
       "        -6.26358911e-02,  6.85891435e-02,  2.12807469e-02,\n",
       "        -4.11787555e-02,  7.12969825e-02, -2.85411496e-02,\n",
       "        -1.06836678e-02, -1.89546440e-02,  1.78564023e-02,\n",
       "        -3.75272259e-02,  6.14916789e-04,  4.38691154e-02,\n",
       "         1.56059666e-02,  3.15993396e-03,  5.58515452e-03,\n",
       "        -5.97158587e-03,  2.85605378e-02, -9.22785513e-03,\n",
       "         9.27612558e-03,  2.80324798e-02,  6.93221018e-02,\n",
       "        -3.44454870e-02, -2.25160308e-02,  2.57091969e-02,\n",
       "        -4.39213656e-33, -3.64305452e-02, -2.59273523e-03,\n",
       "         9.11505986e-03,  3.95197347e-02,  1.37440143e-02,\n",
       "         3.83443362e-03,  2.09219940e-03, -6.76697586e-03,\n",
       "         1.25046046e-02, -1.33823706e-02, -1.84265780e-03,\n",
       "         1.20097771e-02,  1.55763645e-02,  7.08814187e-04,\n",
       "         7.13026971e-02, -5.37559092e-02,  2.44811662e-02,\n",
       "        -4.40049730e-02, -1.36816483e-02, -1.33414380e-02,\n",
       "        -2.93123052e-02, -1.21151423e-02,  6.02591522e-02,\n",
       "         1.02625806e-02,  3.59790474e-02, -3.84313799e-02,\n",
       "         2.23757178e-02,  1.09116323e-02,  6.93022087e-02,\n",
       "         1.61975101e-02, -3.05023957e-02,  4.06713299e-02,\n",
       "        -3.92037481e-02, -3.48172188e-02,  4.40173112e-02,\n",
       "         2.78183017e-02, -5.45114651e-03, -2.34862696e-02,\n",
       "         9.80812963e-03,  2.96252854e-02,  4.15044762e-02,\n",
       "        -8.76813903e-02, -8.35824385e-02, -2.17031911e-02,\n",
       "        -3.72131579e-02, -8.14553909e-03, -1.64230671e-02,\n",
       "        -3.21031339e-03,  7.74315093e-03, -4.88730147e-02,\n",
       "        -3.05721746e-03, -2.07577758e-02,  1.43916691e-02,\n",
       "        -2.15989258e-02,  5.19237444e-02,  3.22398618e-02,\n",
       "         2.97001619e-02,  6.64230362e-02,  3.49241979e-02,\n",
       "         6.32981434e-02,  2.76506320e-02, -6.43676519e-02,\n",
       "        -1.97427068e-02, -6.66219890e-02, -2.80176215e-02,\n",
       "        -2.66223624e-02, -1.15307951e-02, -2.93886778e-03,\n",
       "         2.88166404e-02, -3.48906815e-02,  1.28499316e-02,\n",
       "         2.38518510e-02, -2.04859059e-02,  3.24630179e-02,\n",
       "         2.07587238e-02,  3.60320732e-02,  1.18892100e-02,\n",
       "         2.08262801e-02,  5.34499809e-02,  3.98998223e-02,\n",
       "         1.93192088e-03,  4.08157147e-02,  1.73660740e-02,\n",
       "         1.62020586e-02, -3.99374254e-02, -5.42060249e-02,\n",
       "        -9.92146228e-03, -2.20064111e-02,  2.27758139e-02,\n",
       "        -3.69536900e-03, -5.12674972e-02, -3.43792103e-02,\n",
       "         2.70803012e-02,  6.55444013e-03, -8.59291926e-02,\n",
       "        -6.78600073e-02, -6.93691103e-03,  1.56281106e-02,\n",
       "        -6.14048634e-03,  1.97633784e-02, -2.56496426e-02,\n",
       "        -8.55879113e-03, -6.69194432e-03, -1.37871765e-02,\n",
       "        -1.60989612e-02, -6.38106233e-03,  4.70548905e-02,\n",
       "        -3.73779703e-03, -2.61347573e-02,  9.47325956e-04,\n",
       "         5.62971924e-03, -4.70339060e-02, -2.40904186e-02,\n",
       "        -1.03060164e-01,  3.95706370e-02,  1.86298080e-02,\n",
       "         1.22608189e-02, -2.66108364e-02,  8.73115659e-03,\n",
       "        -1.45035386e-02, -2.18205899e-02, -5.02304621e-02,\n",
       "        -1.87203567e-02, -1.50403138e-02, -3.63761559e-03,\n",
       "         1.26318000e-02,  3.22695114e-02,  2.52542160e-02,\n",
       "        -2.95263398e-02, -1.22712851e-02, -1.14217689e-02,\n",
       "        -9.44961980e-03,  1.85265662e-07, -3.20790336e-02,\n",
       "         2.90721934e-02,  1.50097525e-02,  4.58585918e-02,\n",
       "        -4.58980352e-02,  8.51313397e-02,  1.87605824e-02,\n",
       "        -7.52923172e-03, -9.47736483e-03,  2.20605470e-02,\n",
       "        -1.64591614e-02,  1.37806339e-02, -5.93534205e-03,\n",
       "         1.98825579e-02, -1.72281638e-02, -5.15167862e-02,\n",
       "         7.51994252e-02, -2.18111742e-02,  1.31302531e-05,\n",
       "        -4.08613384e-02, -2.18479261e-02,  7.75562376e-02,\n",
       "         6.59543648e-02,  3.45364548e-02,  6.32861350e-03,\n",
       "        -3.45287211e-02,  2.41718441e-02, -5.22142351e-02,\n",
       "        -4.00038669e-03, -4.70077209e-02, -7.21945241e-03,\n",
       "        -6.05984852e-02, -4.96257097e-03, -1.06797470e-02,\n",
       "         3.90087627e-02, -4.15892154e-03,  5.15687354e-02,\n",
       "         1.44929364e-02,  8.72997101e-03,  5.83561845e-02,\n",
       "        -4.20899987e-02, -3.73952836e-03, -4.08154428e-02,\n",
       "        -3.81656401e-02,  2.13403255e-03,  3.52092227e-03,\n",
       "        -6.06537377e-03, -2.75367200e-02, -1.17570413e-02,\n",
       "        -2.33171461e-03,  2.78418846e-02, -2.67389026e-02,\n",
       "         2.94055305e-02, -3.15133780e-02, -4.89009218e-03,\n",
       "        -3.41911404e-03,  4.42338176e-02,  1.56635586e-02,\n",
       "         1.01597523e-02, -8.11970383e-02, -8.73277440e-06,\n",
       "         4.35416996e-02, -3.40957334e-03,  1.32463649e-01,\n",
       "        -5.27368337e-02,  4.36557308e-02,  3.99109833e-02,\n",
       "         6.80548207e-35,  2.35433783e-02, -4.56788726e-02,\n",
       "        -3.64246964e-02,  3.97049785e-02, -2.14084368e-02,\n",
       "        -1.54700642e-03,  9.18157846e-02, -7.23870238e-03,\n",
       "         7.68455584e-03,  2.62084659e-02, -2.25907355e-03]], dtype=float32)"
      ]
     },
     "execution_count": 12,
     "metadata": {},
     "output_type": "execute_result"
    }
   ],
   "execution_count": 12
  },
  {
   "metadata": {
    "ExecuteTime": {
     "end_time": "2025-08-20T07:52:15.801779Z",
     "start_time": "2025-08-20T07:52:15.790386Z"
    }
   },
   "cell_type": "code",
   "source": "index.search(svec , k = 2)",
   "id": "e398e59456a09d29",
   "outputs": [
    {
     "data": {
      "text/plain": [
       "(array([[1.3844836, 1.4039096]], dtype=float32), array([[3, 2]]))"
      ]
     },
     "execution_count": 13,
     "metadata": {},
     "output_type": "execute_result"
    }
   ],
   "execution_count": 13
  },
  {
   "metadata": {
    "ExecuteTime": {
     "end_time": "2025-08-20T07:52:49.698831Z",
     "start_time": "2025-08-20T07:52:49.696208Z"
    }
   },
   "cell_type": "code",
   "source": "distances, I = index.search(svec, k = 2)",
   "id": "2573553464ed75c3",
   "outputs": [],
   "execution_count": 14
  },
  {
   "metadata": {
    "ExecuteTime": {
     "end_time": "2025-08-20T07:53:02.314609Z",
     "start_time": "2025-08-20T07:53:02.303246Z"
    }
   },
   "cell_type": "code",
   "source": "df.iloc[[3,2]]",
   "id": "849a5d2c87e1a35a",
   "outputs": [
    {
     "data": {
      "text/plain": [
       "                                                text category\n",
       "3  Vibrant color jeans for male are becoming a trend  Fashion\n",
       "2  These are the latest fashion trends for this week  Fashion"
      ],
      "text/html": [
       "<div>\n",
       "<style scoped>\n",
       "    .dataframe tbody tr th:only-of-type {\n",
       "        vertical-align: middle;\n",
       "    }\n",
       "\n",
       "    .dataframe tbody tr th {\n",
       "        vertical-align: top;\n",
       "    }\n",
       "\n",
       "    .dataframe thead th {\n",
       "        text-align: right;\n",
       "    }\n",
       "</style>\n",
       "<table border=\"1\" class=\"dataframe\">\n",
       "  <thead>\n",
       "    <tr style=\"text-align: right;\">\n",
       "      <th></th>\n",
       "      <th>text</th>\n",
       "      <th>category</th>\n",
       "    </tr>\n",
       "  </thead>\n",
       "  <tbody>\n",
       "    <tr>\n",
       "      <th>3</th>\n",
       "      <td>Vibrant color jeans for male are becoming a trend</td>\n",
       "      <td>Fashion</td>\n",
       "    </tr>\n",
       "    <tr>\n",
       "      <th>2</th>\n",
       "      <td>These are the latest fashion trends for this week</td>\n",
       "      <td>Fashion</td>\n",
       "    </tr>\n",
       "  </tbody>\n",
       "</table>\n",
       "</div>"
      ]
     },
     "execution_count": 15,
     "metadata": {},
     "output_type": "execute_result"
    }
   ],
   "execution_count": 15
  },
  {
   "metadata": {
    "ExecuteTime": {
     "end_time": "2025-08-20T07:53:15.969469Z",
     "start_time": "2025-08-20T07:53:15.961431Z"
    }
   },
   "cell_type": "code",
   "source": "df.iloc[I[0]]",
   "id": "193559d667b33647",
   "outputs": [
    {
     "data": {
      "text/plain": [
       "                                                text category\n",
       "3  Vibrant color jeans for male are becoming a trend  Fashion\n",
       "2  These are the latest fashion trends for this week  Fashion"
      ],
      "text/html": [
       "<div>\n",
       "<style scoped>\n",
       "    .dataframe tbody tr th:only-of-type {\n",
       "        vertical-align: middle;\n",
       "    }\n",
       "\n",
       "    .dataframe tbody tr th {\n",
       "        vertical-align: top;\n",
       "    }\n",
       "\n",
       "    .dataframe thead th {\n",
       "        text-align: right;\n",
       "    }\n",
       "</style>\n",
       "<table border=\"1\" class=\"dataframe\">\n",
       "  <thead>\n",
       "    <tr style=\"text-align: right;\">\n",
       "      <th></th>\n",
       "      <th>text</th>\n",
       "      <th>category</th>\n",
       "    </tr>\n",
       "  </thead>\n",
       "  <tbody>\n",
       "    <tr>\n",
       "      <th>3</th>\n",
       "      <td>Vibrant color jeans for male are becoming a trend</td>\n",
       "      <td>Fashion</td>\n",
       "    </tr>\n",
       "    <tr>\n",
       "      <th>2</th>\n",
       "      <td>These are the latest fashion trends for this week</td>\n",
       "      <td>Fashion</td>\n",
       "    </tr>\n",
       "  </tbody>\n",
       "</table>\n",
       "</div>"
      ]
     },
     "execution_count": 16,
     "metadata": {},
     "output_type": "execute_result"
    }
   ],
   "execution_count": 16
  },
  {
   "metadata": {
    "ExecuteTime": {
     "end_time": "2025-08-20T07:53:23.291060Z",
     "start_time": "2025-08-20T07:53:23.285832Z"
    }
   },
   "cell_type": "code",
   "source": "df.shape",
   "id": "b0ac64bdf319dfcd",
   "outputs": [
    {
     "data": {
      "text/plain": [
       "(8, 2)"
      ]
     },
     "execution_count": 17,
     "metadata": {},
     "output_type": "execute_result"
    }
   ],
   "execution_count": 17
  },
  {
   "metadata": {
    "ExecuteTime": {
     "end_time": "2025-08-20T07:53:29.103460Z",
     "start_time": "2025-08-20T07:53:29.096821Z"
    }
   },
   "cell_type": "code",
   "source": "search_query",
   "id": "1426464f7c827ce3",
   "outputs": [
    {
     "data": {
      "text/plain": [
       "'I want to buy a Polo t-shirt'"
      ]
     },
     "execution_count": 18,
     "metadata": {},
     "output_type": "execute_result"
    }
   ],
   "execution_count": 18
  },
  {
   "metadata": {},
   "cell_type": "code",
   "outputs": [],
   "execution_count": null,
   "source": "",
   "id": "fad8f44efb87d549"
  }
 ],
 "metadata": {
  "kernelspec": {
   "display_name": "Python 3",
   "language": "python",
   "name": "python3"
  },
  "language_info": {
   "codemirror_mode": {
    "name": "ipython",
    "version": 2
   },
   "file_extension": ".py",
   "mimetype": "text/x-python",
   "name": "python",
   "nbconvert_exporter": "python",
   "pygments_lexer": "ipython2",
   "version": "2.7.6"
  }
 },
 "nbformat": 4,
 "nbformat_minor": 5
}
